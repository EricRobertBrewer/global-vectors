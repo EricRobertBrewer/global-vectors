{
 "cells": [
  {
   "cell_type": "markdown",
   "metadata": {},
   "source": [
    "#### Read model"
   ]
  },
  {
   "cell_type": "code",
   "execution_count": null,
   "metadata": {
    "collapsed": true
   },
   "outputs": [],
   "source": [
    "filename = \"declaration-of-independence\""
   ]
  },
  {
   "cell_type": "code",
   "execution_count": null,
   "metadata": {},
   "outputs": [],
   "source": [
    "with open(\"{}.vocab\".format(filename), \"r\") as fd_vocab:\n",
    "    vocab = [s.strip() for s in fd_vocab.readlines()]\n",
    "len(vocab), vocab[int(len(vocab)/2)]\n",
    "\n",
    "lookup = {}\n",
    "for i, v in enumerate(vocab):\n",
    "    lookup[v] = i"
   ]
  },
  {
   "cell_type": "code",
   "execution_count": null,
   "metadata": {},
   "outputs": [],
   "source": [
    "with open(\"{}.center\".format(filename), \"r\") as fd_center:\n",
    "    embedding = [line.split() for line in fd_center.readlines()]\n",
    "    center_embedding = [[float(element) for element in elements[0:-1]] for elements in embedding]\n",
    "    center_bias = [float(elements[-1]) for elements in embedding]\n",
    "len(center_embedding), len(center_embedding[0]), len(center_bias)"
   ]
  },
  {
   "cell_type": "code",
   "execution_count": null,
   "metadata": {},
   "outputs": [],
   "source": [
    "with open(\"{}.context\".format(filename), \"r\") as fd_context:\n",
    "    embedding = [line.split() for line in fd_context.readlines()]\n",
    "    context_embedding = [[float(element) for element in elements[0:-1]] for elements in embedding]\n",
    "    context_bias = [float(elements[-1]) for elements in embedding]\n",
    "len(context_embedding), len(context_embedding[0]), len(context_bias)"
   ]
  },
  {
   "cell_type": "markdown",
   "metadata": {},
   "source": [
    "#### Open analogy file"
   ]
  },
  {
   "cell_type": "code",
   "execution_count": null,
   "metadata": {},
   "outputs": [],
   "source": [
    "with open(\"question-words.txt\", \"r\") as fd:\n",
    "    all_elements = [line.split() for line in fd.readlines()]\n",
    "    analogy_titles = []\n",
    "    analogies = []\n",
    "    for elements in all_elements:\n",
    "        if elements[0] == \":\":\n",
    "            analogy_titles += [elements[1]]\n",
    "            analogies += [[]]\n",
    "        else:\n",
    "            analogies[-1] += [elements]\n",
    "len(analogy_titles), len(analogies), len(analogies[0]), len(analogies[-1])"
   ]
  },
  {
   "cell_type": "markdown",
   "metadata": {},
   "source": [
    "#### Begin analogy test"
   ]
  },
  {
   "cell_type": "code",
   "execution_count": null,
   "metadata": {},
   "outputs": [],
   "source": [
    "import math\n",
    "def euclidean(w, v):\n",
    "    \"\"\"\n",
    "    Calculate Euclidean distance.\n",
    "    \"\"\"\n",
    "    dsum = 0.0\n",
    "    for i in range(len(w)):\n",
    "        dsum += (w[i] - v[i])**2\n",
    "    return math.sqrt(dsum)\n",
    "\n",
    "def nn(w, embedding):\n",
    "    \"\"\"\n",
    "    Nearest neighbor.\n",
    "    \"\"\"\n",
    "    min_index = 0\n",
    "    min_distance = euclidean(w, embedding[0])\n",
    "    for i, v in enumerate(embedding[1:]):\n",
    "        distance = euclidean(w, v)\n",
    "        if distance < min_distance:\n",
    "            min_index = i\n",
    "            min_distance = distance\n",
    "    return min_index, min_distance\n",
    "\n",
    "the_index, the_distance = nn(context_embedding[lookup['the']], center_embedding)\n",
    "vocab[the_index], the_distance"
   ]
  },
  {
   "cell_type": "code",
   "execution_count": null,
   "metadata": {},
   "outputs": [],
   "source": [
    "def test(embedding):\n",
    "    for i, category in enumerate(analogies):\n",
    "        print(\"{}: \".format(analogy_titles[i]), end='')\n",
    "        correct_count = 0\n",
    "        for terms in category:\n",
    "            # e.g. man : woman :: king : (queen)\n",
    "            try:\n",
    "                word0 = embedding[lookup[terms[0]]]\n",
    "                word1 = embedding[lookup[terms[1]]]\n",
    "                word2 = embedding[lookup[terms[2]]]\n",
    "                index, distance = nn(word2 - word0 + word1, center_embedding)\n",
    "                if vocab[index] == terms[3]:\n",
    "                    correct_count += 1\n",
    "            except:\n",
    "                pass\n",
    "        print(\"{}/{} = {}\".format(correct_count, len(category), correct_count/len(category)))\n",
    "\n",
    "test(center_embedding)"
   ]
  },
  {
   "cell_type": "code",
   "execution_count": null,
   "metadata": {
    "collapsed": true
   },
   "outputs": [],
   "source": []
  }
 ],
 "metadata": {
  "kernelspec": {
   "display_name": "Python 3",
   "language": "python",
   "name": "python3"
  },
  "language_info": {
   "codemirror_mode": {
    "name": "ipython",
    "version": 3
   },
   "file_extension": ".py",
   "mimetype": "text/x-python",
   "name": "python",
   "nbconvert_exporter": "python",
   "pygments_lexer": "ipython3",
   "version": "3.6.3"
  }
 },
 "nbformat": 4,
 "nbformat_minor": 2
}
