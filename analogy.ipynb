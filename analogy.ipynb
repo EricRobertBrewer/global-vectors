{
 "cells": [
  {
   "cell_type": "markdown",
   "metadata": {},
   "source": [
    "#### Read model"
   ]
  },
  {
   "cell_type": "code",
   "execution_count": 26,
   "metadata": {
    "collapsed": true
   },
   "outputs": [],
   "source": [
    "filename = \"../brown/brown\"\n",
    "params = \"8_200_30\""
   ]
  },
  {
   "cell_type": "code",
   "execution_count": 27,
   "metadata": {
    "collapsed": true
   },
   "outputs": [],
   "source": [
    "with open(\"{}.vocab\".format(filename), \"r\") as fd_vocab:\n",
    "    vocab = [s.strip() for s in fd_vocab.readlines()]\n",
    "len(vocab), vocab[int(len(vocab)/2)]\n",
    "\n",
    "lookup = {}\n",
    "for i, v in enumerate(vocab):\n",
    "    lookup[v] = i"
   ]
  },
  {
   "cell_type": "code",
   "execution_count": 28,
   "metadata": {},
   "outputs": [
    {
     "data": {
      "text/plain": [
       "(41506, 200, 41506)"
      ]
     },
     "execution_count": 28,
     "metadata": {},
     "output_type": "execute_result"
    }
   ],
   "source": [
    "with open(\"{}.center\".format(filename+\"_\"+params), \"r\") as fd_center:\n",
    "    embedding = [line.split() for line in fd_center.readlines()]\n",
    "    center_embedding = [[float(element) for element in elements[0:-1]] for elements in embedding]\n",
    "    center_bias = [float(elements[-1]) for elements in embedding]\n",
    "len(center_embedding), len(center_embedding[0]), len(center_bias)"
   ]
  },
  {
   "cell_type": "code",
   "execution_count": 29,
   "metadata": {},
   "outputs": [
    {
     "data": {
      "text/plain": [
       "(41506, 200, 41506)"
      ]
     },
     "execution_count": 29,
     "metadata": {},
     "output_type": "execute_result"
    }
   ],
   "source": [
    "with open(\"{}.context\".format(filename+\"_\"+params), \"r\") as fd_context:\n",
    "    embedding = [line.split() for line in fd_context.readlines()]\n",
    "    context_embedding = [[float(element) for element in elements[0:-1]] for elements in embedding]\n",
    "    context_bias = [float(elements[-1]) for elements in embedding]\n",
    "len(context_embedding), len(context_embedding[0]), len(context_bias)"
   ]
  },
  {
   "cell_type": "code",
   "execution_count": 39,
   "metadata": {},
   "outputs": [
    {
     "name": "stdout",
     "output_type": "stream",
     "text": [
      "(200,)\n"
     ]
    }
   ],
   "source": [
    "import numpy as np\n",
    "embeddings = np.asarray(center_embedding) + np.asarray(context_embedding)\n",
    "biases = np.asarray(center_bias) + np.asarray(context_bias)\n",
    "print(embeddings.shape)"
   ]
  },
  {
   "cell_type": "markdown",
   "metadata": {},
   "source": [
    "#### Open analogy file"
   ]
  },
  {
   "cell_type": "code",
   "execution_count": 32,
   "metadata": {},
   "outputs": [
    {
     "data": {
      "text/plain": [
       "(14, 14, 506, 870)"
      ]
     },
     "execution_count": 32,
     "metadata": {},
     "output_type": "execute_result"
    }
   ],
   "source": [
    "with open(\"question-words.txt\", \"r\") as fd:\n",
    "    all_elements = [line.split() for line in fd.readlines()]\n",
    "    analogy_titles = []\n",
    "    analogies = []\n",
    "    for elements in all_elements:\n",
    "        if elements[0] == \":\":\n",
    "            analogy_titles += [elements[1]]\n",
    "            analogies += [[]]\n",
    "        else:\n",
    "            analogies[-1] += [elements]\n",
    "len(analogy_titles), len(analogies), len(analogies[0]), len(analogies[-1])"
   ]
  },
  {
   "cell_type": "markdown",
   "metadata": {},
   "source": [
    "#### Begin analogy test"
   ]
  },
  {
   "cell_type": "code",
   "execution_count": 48,
   "metadata": {},
   "outputs": [
    {
     "ename": "KeyError",
     "evalue": "'poop'",
     "output_type": "error",
     "traceback": [
      "\u001b[1;31m---------------------------------------------------------------------------\u001b[0m",
      "\u001b[1;31mKeyError\u001b[0m                                  Traceback (most recent call last)",
      "\u001b[1;32m<ipython-input-48-017fb7451639>\u001b[0m in \u001b[0;36m<module>\u001b[1;34m()\u001b[0m\n\u001b[0;32m     29\u001b[0m \u001b[1;33m\u001b[0m\u001b[0m\n\u001b[0;32m     30\u001b[0m \u001b[1;33m\u001b[0m\u001b[0m\n\u001b[1;32m---> 31\u001b[1;33m \u001b[0mthe_index\u001b[0m \u001b[1;33m=\u001b[0m \u001b[0mnn\u001b[0m\u001b[1;33m(\u001b[0m\u001b[0membeddings\u001b[0m\u001b[1;33m[\u001b[0m\u001b[0mlookup\u001b[0m\u001b[1;33m[\u001b[0m\u001b[1;34m'poop'\u001b[0m\u001b[1;33m]\u001b[0m\u001b[1;33m]\u001b[0m\u001b[1;33m,\u001b[0m \u001b[0meuclidean\u001b[0m \u001b[1;33m=\u001b[0m \u001b[1;32mFalse\u001b[0m\u001b[1;33m)\u001b[0m\u001b[1;33m\u001b[0m\u001b[0m\n\u001b[0m\u001b[0;32m     32\u001b[0m \u001b[0mvocab\u001b[0m\u001b[1;33m[\u001b[0m\u001b[0mthe_index\u001b[0m\u001b[1;33m]\u001b[0m\u001b[1;33m\u001b[0m\u001b[0m\n",
      "\u001b[1;31mKeyError\u001b[0m: 'poop'"
     ]
    }
   ],
   "source": [
    "import math\n",
    "def euclidean(w, v):\n",
    "    \"\"\"\n",
    "    Calculate Euclidean distance.\n",
    "    \"\"\"\n",
    "    dsum = 0.0\n",
    "    for i in range(len(w)):\n",
    "        dsum += (w[i] - v[i])**2\n",
    "    return math.sqrt(dsum)\n",
    "\n",
    "    \n",
    "\n",
    "def nn(test_embedding, euclidean):\n",
    "    \"\"\"\n",
    "    Nearest neighbor.\n",
    "    \"\"\" \n",
    "    if euclidean:\n",
    "        min_index = 0\n",
    "        min_distance = euclidean(test_embedding, embedding[0])\n",
    "        for i, v in enumerate(embedding[1:]):\n",
    "            distance = euclidean(test_embedding, v)\n",
    "            if distance < min_distance:\n",
    "                min_index = i\n",
    "                min_distance = distance\n",
    "    else:\n",
    "        temp = np.sum(embeddings * test_embedding,axis=1) / np.linalg.norm(test_embedding)\n",
    "        min_index = np.argmax(temp)        \n",
    "    return min_index\n",
    "\n",
    "\n",
    "the_index = nn(embeddings[lookup['the']], euclidean = False)\n",
    "vocab[the_index]"
   ]
  },
  {
   "cell_type": "code",
   "execution_count": 54,
   "metadata": {},
   "outputs": [
    {
     "name": "stdout",
     "output_type": "stream",
     "text": [
      "capital-common-countries: 0/0 = 0\n",
      "capital-world: 0/0 = 0\n",
      "currency: 0/0 = 0\n",
      "city-in-state: 0/0 = 0\n",
      "family: 0/1 = 0.0\n",
      "gram1-adjective-to-adverb: 0/1 = 0.0\n",
      "gram2-opposite: 0/1 = 0.0\n",
      "gram3-comparative: 0/1 = 0.0\n",
      "gram4-superlative: 0/1 = 0.0\n",
      "gram5-present-participle: 0/1 = 0.0\n",
      "gram6-nationality-adjective: 0/0 = 0\n",
      "gram7-past-tense: 0/1 = 0.0\n",
      "gram8-plural: 0/1 = 0.0\n",
      "gram9-plural-verbs: 0/1 = 0.0\n"
     ]
    }
   ],
   "source": [
    "def test(embedding):\n",
    "    counts = np.zeros((len(analogies),2))\n",
    "    for i, category in enumerate(analogies):\n",
    "        print(\"{}: \".format(analogy_titles[i]), end='')\n",
    "        for terms in category:\n",
    "            correct_count = 0\n",
    "            count = 0\n",
    "            # e.g. man : woman :: king : (queen)\n",
    "            try:\n",
    "                word0 = embeddings[lookup[terms[0]]]\n",
    "                word1 = embeddings[lookup[terms[1]]]\n",
    "                word2 = embeddings[lookup[terms[2]]]\n",
    "                index = nn(word1 - word0 + word2, euclidean=False)\n",
    "                if vocab[index] == terms[3]:\n",
    "                    correct_count += 1\n",
    "                count += 1\n",
    "            except KeyError:\n",
    "                pass\n",
    "        counts[i,:] = [correct_count,count]\n",
    "        print(\"{}/{} = {}\".format(correct_count, count, 0 if count == 0 else correct_count/count))\n",
    "    return counts\n",
    "counts = test(embeddings)"
   ]
  },
  {
   "cell_type": "code",
   "execution_count": 58,
   "metadata": {
    "collapsed": true
   },
   "outputs": [],
   "source": [
    "with open(\"{}_accuracy.txt\".format(filename), \"w\") as fd_center:\n",
    "    for i, category in enumerate(analogies):\n",
    "        fd_center.write(\"{}: Total number: {}, Total Correct: {} \\n\".format(analogy_titles[i],counts[i,0],counts[i,1]))"
   ]
  },
  {
   "cell_type": "code",
   "execution_count": null,
   "metadata": {
    "collapsed": true
   },
   "outputs": [],
   "source": []
  }
 ],
 "metadata": {
  "kernelspec": {
   "display_name": "Python 3",
   "language": "python",
   "name": "python3"
  },
  "language_info": {
   "codemirror_mode": {
    "name": "ipython",
    "version": 3
   },
   "file_extension": ".py",
   "mimetype": "text/x-python",
   "name": "python",
   "nbconvert_exporter": "python",
   "pygments_lexer": "ipython3",
   "version": "3.6.3"
  }
 },
 "nbformat": 4,
 "nbformat_minor": 2
}
