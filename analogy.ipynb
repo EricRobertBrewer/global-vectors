{
 "cells": [
  {
   "cell_type": "markdown",
   "metadata": {},
   "source": [
    "#### Read model"
   ]
  },
  {
   "cell_type": "code",
   "execution_count": null,
   "metadata": {
    "collapsed": true
   },
   "outputs": [],
   "source": [
    "directory = \"europarl\"\n",
    "filename = \"europarl\"\n",
    "params = \"8_200_25_skip\""
   ]
  },
  {
   "cell_type": "code",
   "execution_count": null,
   "metadata": {},
   "outputs": [],
   "source": [
    "with open(\"corpora/{}/{}.vocab\".format(directory, filename), \"r\") as fd_vocab:\n",
    "    vocab = [s.strip() for s in fd_vocab.readlines()]\n",
    "len(vocab), vocab[int(len(vocab)/2)]"
   ]
  },
  {
   "cell_type": "code",
   "execution_count": null,
   "metadata": {},
   "outputs": [],
   "source": [
    "lookup = {}\n",
    "for i, v in enumerate(vocab):\n",
    "    lookup[v] = i\n",
    "lookup['the']"
   ]
  },
  {
   "cell_type": "code",
   "execution_count": null,
   "metadata": {},
   "outputs": [],
   "source": [
    "with open(\"corpora/{}/{}_{}.center\".format(directory, filename, params), \"r\") as fd_center:\n",
    "    embedding = [line.split() for line in fd_center.readlines()]\n",
    "    center_embedding = [[float(element) for element in elements[0:-1]] for elements in embedding]\n",
    "    center_bias = [float(elements[-1]) for elements in embedding]\n",
    "len(center_embedding), len(center_embedding[0]), len(center_bias)"
   ]
  },
  {
   "cell_type": "code",
   "execution_count": null,
   "metadata": {},
   "outputs": [],
   "source": [
    "with open(\"corpora/{}/{}_{}.context\".format(directory, filename, params), \"r\") as fd_context:\n",
    "    embedding = [line.split() for line in fd_context.readlines()]\n",
    "    context_embedding = [[float(element) for element in elements[0:-1]] for elements in embedding]\n",
    "    context_bias = [float(elements[-1]) for elements in embedding]\n",
    "len(context_embedding), len(context_embedding[0]), len(context_bias)"
   ]
  },
  {
   "cell_type": "code",
   "execution_count": null,
   "metadata": {},
   "outputs": [],
   "source": [
    "import numpy as np\n",
    "embeddings = np.asarray(center_embedding) + np.asarray(context_embedding)\n",
    "biases = np.asarray(center_bias) + np.asarray(context_bias)\n",
    "print(embeddings.shape)"
   ]
  },
  {
   "cell_type": "markdown",
   "metadata": {},
   "source": [
    "#### Open analogy file"
   ]
  },
  {
   "cell_type": "code",
   "execution_count": null,
   "metadata": {},
   "outputs": [],
   "source": [
    "with open(\"question-words.txt\", \"r\") as fd:\n",
    "    all_elements = [line.split() for line in fd.readlines()]\n",
    "    analogy_titles = []\n",
    "    analogies = []\n",
    "    for elements in all_elements:\n",
    "        if elements[0] == \":\":\n",
    "            analogy_titles += [elements[1]]\n",
    "            analogies += [[]]\n",
    "        else:\n",
    "            analogies[-1] += [elements]\n",
    "len(analogy_titles), len(analogies), len(analogies[0]), len(analogies[-1])"
   ]
  },
  {
   "cell_type": "markdown",
   "metadata": {},
   "source": [
    "#### Begin analogy test"
   ]
  },
  {
   "cell_type": "code",
   "execution_count": null,
   "metadata": {},
   "outputs": [],
   "source": [
    "import math\n",
    "def euclidean(w, v):\n",
    "    \"\"\"Calculate Euclidean distance.\"\"\"\n",
    "    dsum = 0.0\n",
    "    for i in range(len(w)):\n",
    "        dsum += (w[i] - v[i])**2\n",
    "    return math.sqrt(dsum)\n",
    "\n",
    "\n",
    "def nn(test_embedding, eucl=False, k=1):\n",
    "    \"\"\"k nearest neighbors, not necessarily sorted by distance.\"\"\" \n",
    "    if eucl:\n",
    "        temp = [euclidean(test_embedding, embedding) for embedding in embeddings]\n",
    "        return np.argpartition(temp, k)[:k]\n",
    "    temp = np.sum(embeddings * test_embedding,axis=1) / np.linalg.norm(test_embedding)\n",
    "    return np.argpartition(temp, -k)[-k:]\n",
    "\n",
    "\n",
    "# Find the 5 nearest neighbors of 'the' by Euclidean distance and cosine similarity.\n",
    "the_index = lookup['the']\n",
    "the_eucl_indices = nn(embeddings[the_index], eucl=True, k=5)\n",
    "the_eucl_words = [vocab[i] for i in the_eucl_indices]\n",
    "the_cos_sim_indices = nn(embeddings[the_index], eucl=False, k=5)\n",
    "the_cos_sim_words = [vocab[i] for i in the_cos_sim_indices]\n",
    "the_eucl_indices, the_eucl_words, the_cos_sim_indices, the_cos_sim_words"
   ]
  },
  {
   "cell_type": "code",
   "execution_count": null,
   "metadata": {},
   "outputs": [],
   "source": [
    "def test(eucl=False, k=1):\n",
    "    counts = np.zeros((len(analogies),2))\n",
    "    for i, category in enumerate(analogies):\n",
    "        print(\"{}: \".format(analogy_titles[i]), end='')\n",
    "        for terms in category:\n",
    "            correct_count = 0\n",
    "            count = 0\n",
    "            # e.g. man : woman :: king : ? (queen)\n",
    "            try:\n",
    "                word0 = embeddings[lookup[terms[0]]]\n",
    "                word1 = embeddings[lookup[terms[1]]]\n",
    "                word2 = embeddings[lookup[terms[2]]]\n",
    "                indices = nn(word1 - word0 + word2, eucl, k)\n",
    "                kwords = [vocab[i] for i in indices]\n",
    "                if terms[3] in kwords:\n",
    "                    correct_count += 1\n",
    "                count += 1\n",
    "            except KeyError:\n",
    "                pass\n",
    "        counts[i,:] = [correct_count,count]\n",
    "        print(\"{}/{} = {}\".format(correct_count, count, 0 if count == 0 else correct_count/count))\n",
    "    return counts\n",
    "\n",
    "k = 3\n",
    "eucl_counts = test(embeddings, True, k)\n",
    "cos_sim_counts = test(embeddings, False, k)"
   ]
  },
  {
   "cell_type": "code",
   "execution_count": null,
   "metadata": {
    "collapsed": true
   },
   "outputs": [],
   "source": [
    "with open(\"{}_{}_eucl_accuracy.txt\".format(filename, params), \"w\") as fd_accuracy:\n",
    "    for i, category in enumerate(analogies):\n",
    "        fd_accuracy.write(\"{}: Total number: {}, Total Correct: {} \\n\".format(analogy_titles[i],eucl_counts[i,0],eucl_counts[i,1]))"
   ]
  },
  {
   "cell_type": "code",
   "execution_count": null,
   "metadata": {
    "collapsed": true
   },
   "outputs": [],
   "source": [
    "with open(\"{}_{}_accuracy.txt\".format(filename, params), \"w\") as fd_accuracy:\n",
    "    for i, category in enumerate(analogies):\n",
    "        fd_accuracy.write(\"{}: Total number: {}, Total Correct: {} \\n\".format(analogy_titles[i],cos_sim_counts[i,0],cos_sim_counts[i,1]))"
   ]
  }
 ],
 "metadata": {
  "kernelspec": {
   "display_name": "Python 3",
   "language": "python",
   "name": "python3"
  },
  "language_info": {
   "codemirror_mode": {
    "name": "ipython",
    "version": 3
   },
   "file_extension": ".py",
   "mimetype": "text/x-python",
   "name": "python",
   "nbconvert_exporter": "python",
   "pygments_lexer": "ipython3",
   "version": "3.6.3"
  }
 },
 "nbformat": 4,
 "nbformat_minor": 2
}
