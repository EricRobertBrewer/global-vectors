{
 "cells": [
  {
   "cell_type": "markdown",
   "metadata": {},
   "source": [
    "#### Read"
   ]
  },
  {
   "cell_type": "code",
   "execution_count": 1,
   "metadata": {
    "collapsed": true
   },
   "outputs": [],
   "source": [
    "import os\n",
    "fd = open(\"declaration-of-independence.txt\", \"r\")\n",
    "text = fd.read()"
   ]
  },
  {
   "cell_type": "markdown",
   "metadata": {},
   "source": [
    "#### Pre-process"
   ]
  },
  {
   "cell_type": "code",
   "execution_count": 2,
   "metadata": {},
   "outputs": [
    {
     "name": "stdout",
     "output_type": "stream",
     "text": [
      "Terms: 1316\n",
      "Vocabulary: 534\n"
     ]
    }
   ],
   "source": [
    "import re\n",
    "# Remove punctuation.\n",
    "# Notable exclusions: prime(')\n",
    "# TODO: Treat periods as a separate, special token.\n",
    "document = re.sub(\"[.,-;:\\\"]+\", \"\", text)\n",
    "tokens = document.split()\n",
    "tokens = [token.lower() for token in tokens]\n",
    "print(\"Terms:\", len(tokens))\n",
    "vocab = list(set(tokens))\n",
    "m = len(vocab)\n",
    "print(\"Vocabulary:\", m)"
   ]
  },
  {
   "cell_type": "markdown",
   "metadata": {},
   "source": [
    "#### Co-occurrence Matrix"
   ]
  },
  {
   "cell_type": "code",
   "execution_count": 3,
   "metadata": {},
   "outputs": [],
   "source": [
    "import numpy as np\n",
    "# r = Window radius: Terms to the left or right of a\n",
    "#  given term defined as being in the same \"context\".\n",
    "r = 10\n",
    "co = np.zeros((m, m))\n",
    "def occur(co, token, other, vocab):\n",
    "    i = vocab.index(token)\n",
    "    j = vocab.index(other)\n",
    "    co[i, j] += 1\n",
    "for t in range(len(tokens)):\n",
    "    token = tokens[t]\n",
    "    # Count co-occurrences to the left of this term.\n",
    "    for other in tokens[max(0, t - r):t]:\n",
    "        occur(co, token, other, vocab)\n",
    "    # Count co-occurrences to the right of this term.\n",
    "    for other in tokens[t + 1:min(t + 1 + r, len(tokens))]:\n",
    "        occur(co, token, other, vocab)\n",
    "# print(co[0,:])\n",
    "# print(co[vocab.index(\"we\"), vocab.index(\"truths\")])"
   ]
  },
  {
   "cell_type": "markdown",
   "metadata": {
    "collapsed": true
   },
   "source": [
    "# Gradient Descent"
   ]
  },
  {
   "cell_type": "code",
   "execution_count": 18,
   "metadata": {},
   "outputs": [
    {
     "data": {
      "image/png": "[encoded data removed]",
      "text/plain": [
       "<matplotlib.figure.Figure at 0x1f7780902b0>"
      ]
     },
     "metadata": {},
     "output_type": "display_data"
    }
   ],
   "source": [
    "import matplotlib.pyplot as plt\n",
    "vector_dim = 200\n",
    "iterations = 50\n",
    "co_max = np.max(co)\n",
    "weight_alpha = 3/4\n",
    "learning_rate = .01\n",
    "\n",
    "center_embedding = np.random.uniform(low=-1, high=1, size=(m,vector_dim))\n",
    "context_embedding = np.random.uniform(low=-1, high=1, size=(m,vector_dim))\n",
    "\n",
    "center_bias = np.random.uniform(low=-1, high=1, size=(m))\n",
    "context_bias = np.random.uniform(low=-1, high=1, size=(m))\n",
    "\n",
    "\n",
    "##### Variable update historical arrays\n",
    "center_history = np.zeros((m,vector_dim)) + .1\n",
    "context_history = np.zeros((m, vector_dim)) + .1\n",
    "bias_center_history = np.zeros(m) + .1\n",
    "bias_context_history = np.zeros(m) + .1\n",
    "\n",
    "\n",
    "def weight_fun(x, co_max, alpha):\n",
    "    if x < co_max:\n",
    "        return np.power(x/co_max,alpha)\n",
    "    else:\n",
    "        return 1\n",
    "\n",
    "\n",
    "\n",
    "\n",
    "losses = []\n",
    "\n",
    "for iters in range(iterations):\n",
    "    global_loss = 0\n",
    "    for i in range(m):\n",
    "        for j in range(m):\n",
    "            count = co[i,j]\n",
    "            if count != 0:\n",
    "                center = center_embedding[i,:]\n",
    "                context = context_embedding[j,:]\n",
    "                b1 = center_bias[i]\n",
    "                b2 = context_bias[j]\n",
    "                weight = weight_fun(count, co_max, weight_alpha)\n",
    "                inner_loss = np.dot(center,context) + b1 + b2 - np.log(count)\n",
    "                loss = weight * np.square(inner_loss)\n",
    "                global_loss += loss\n",
    "\n",
    "                ### Compute Gradients\n",
    "                grad_center = weight * inner_loss * context\n",
    "                grad_context = weight * inner_loss * center\n",
    "                grad_bias_center = weight * inner_loss\n",
    "                grad_bias_context = weight * inner_loss\n",
    "\n",
    "                center_embedding[i,:] -=  learning_rate * (grad_center  / np.sqrt(center_history[i,:]))\n",
    "                context_embedding[j,:] -= learning_rate * (grad_context / np.sqrt(context_history[j,:]))\n",
    "                center_bias[i] -=  learning_rate *  (grad_bias_center / np.sqrt(bias_center_history[i]))\n",
    "                context_bias[j] -= learning_rate *  (grad_bias_context / np.sqrt(bias_context_history[j]))\n",
    "\n",
    "                center_history[i,:] += np.square(grad_center)\n",
    "                context_history[j,:] += np.square(grad_context)\n",
    "                bias_center_history[i] += np.square(grad_bias_center)\n",
    "                bias_context_history[j] += np.square(grad_bias_context)\n",
    "    losses.append(global_loss)\n",
    "            \n",
    "\n",
    "plt.plot(losses)\n",
    "plt.xlabel(\"Iterations\")\n",
    "plt.ylabel(\"Loss\")\n",
    "plt.show()"
   ]
  },
  {
   "cell_type": "code",
   "execution_count": null,
   "metadata": {
    "collapsed": true
   },
   "outputs": [],
   "source": []
  }
 ],
 "metadata": {
  "kernelspec": {
   "display_name": "Python 3",
   "language": "python",
   "name": "python3"
  },
  "language_info": {
   "codemirror_mode": {
    "name": "ipython",
    "version": 3
   },
   "file_extension": ".py",
   "mimetype": "text/x-python",
   "name": "python",
   "nbconvert_exporter": "python",
   "pygments_lexer": "ipython3",
   "version": "3.6.3"
  }
 },
 "nbformat": 4,
 "nbformat_minor": 2
}
