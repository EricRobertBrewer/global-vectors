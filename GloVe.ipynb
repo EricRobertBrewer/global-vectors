{
 "cells": [
  {
   "cell_type": "markdown",
   "metadata": {},
   "source": [
    "#### Read"
   ]
  },
  {
   "cell_type": "code",
   "execution_count": 15,
   "metadata": {},
   "outputs": [],
   "source": [
    "import os\n",
    "fd = open(\"declaration-of-independence.txt\", \"r\")\n",
    "text = fd.read()"
   ]
  },
  {
   "cell_type": "markdown",
   "metadata": {},
   "source": [
    "#### Pre-process"
   ]
  },
  {
   "cell_type": "code",
   "execution_count": 41,
   "metadata": {},
   "outputs": [
    {
     "name": "stdout",
     "output_type": "stream",
     "text": [
      "Terms: 1316\n",
      "Vocabulary: 534\n"
     ]
    }
   ],
   "source": [
    "import re\n",
    "# Remove punctuation.\n",
    "# Notable exclusions: prime(')\n",
    "# TODO: Treat periods as a separate, special token.\n",
    "document = re.sub(\"[.,-;:\\\"]+\", \"\", text)\n",
    "tokens = document.split()\n",
    "tokens = [token.lower() for token in tokens]\n",
    "print(\"Terms:\", len(tokens))\n",
    "vocab = list(set(tokens))\n",
    "m = len(vocab)\n",
    "print(\"Vocabulary:\", m)"
   ]
  },
  {
   "cell_type": "markdown",
   "metadata": {},
   "source": [
    "#### Co-occurrence Matrix"
   ]
  },
  {
   "cell_type": "code",
   "execution_count": 56,
   "metadata": {},
   "outputs": [
    {
     "name": "stdout",
     "output_type": "stream",
     "text": [
      "1.0\n"
     ]
    }
   ],
   "source": [
    "import numpy as np\n",
    "# r = Window radius: Terms to the left or right of a\n",
    "#  given term defined as being in the same \"context\".\n",
    "r = 10\n",
    "co = np.zeros((m, m))\n",
    "def occur(co, token, other, vocab):\n",
    "    i = vocab.index(token)\n",
    "    j = vocab.index(other)\n",
    "    co[i, j] += 1\n",
    "for t in range(len(tokens)):\n",
    "    token = tokens[t]\n",
    "    # Count co-occurrences to the left of this term.\n",
    "    for other in tokens[max(0, t - r):t]:\n",
    "        occur(co, token, other, vocab)\n",
    "    # Count co-occurrences to the right of this term.\n",
    "    for other in tokens[t + 1:min(t + 1 + r, len(tokens))]:\n",
    "        occur(co, token, other, vocab)\n",
    "# print(co[0,:])\n",
    "# print(co[vocab.index(\"we\"), vocab.index(\"truths\")])"
   ]
  },
  {
   "cell_type": "code",
   "execution_count": null,
   "metadata": {
    "collapsed": true
   },
   "outputs": [],
   "source": []
  }
 ],
 "metadata": {
  "kernelspec": {
   "display_name": "Python 3",
   "language": "python",
   "name": "python3"
  },
  "language_info": {
   "codemirror_mode": {
    "name": "ipython",
    "version": 3
   },
   "file_extension": ".py",
   "mimetype": "text/x-python",
   "name": "python",
   "nbconvert_exporter": "python",
   "pygments_lexer": "ipython3",
   "version": "3.6.3"
  }
 },
 "nbformat": 4,
 "nbformat_minor": 2
}
