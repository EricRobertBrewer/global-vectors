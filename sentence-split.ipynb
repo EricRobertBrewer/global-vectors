{
 "cells": [
  {
   "cell_type": "code",
   "execution_count": 2,
   "metadata": {},
   "outputs": [],
   "source": [
    "directory = 'brown'\n",
    "filename = 'brown'\n",
    "with open('corpora/{}/{}.txt'.format(directory, filename), 'r') as fd:\n",
    "    text = fd.read()"
   ]
  },
  {
   "cell_type": "code",
   "execution_count": 3,
   "metadata": {},
   "outputs": [
    {
     "name": "stdout",
     "output_type": "stream",
     "text": [
      "Sentences: 52818\n"
     ]
    }
   ],
   "source": [
    "import re\n",
    "# Create sentences, or boundaries for our context window.\n",
    "text = re.sub('\\n', ' ', text)\n",
    "text = re.sub('[.?!]+', '\\n', text)\n",
    "sentences = text.split('\\n')\n",
    "print(\"Sentences: {}\".format(len(sentences)))"
   ]
  },
  {
   "cell_type": "code",
   "execution_count": 4,
   "metadata": {},
   "outputs": [],
   "source": [
    "new_filename = 'brown-split'\n",
    "with open('corpora/{}/{}.txt'.format(directory, new_filename), 'w') as fd_split:\n",
    "    for sentence in sentences:\n",
    "        fd_split.write(\"{}\\n\".format(sentence))"
   ]
  },
  {
   "cell_type": "code",
   "execution_count": null,
   "metadata": {},
   "outputs": [],
   "source": []
  }
 ],
 "metadata": {
  "kernelspec": {
   "display_name": "Python 3",
   "language": "python",
   "name": "python3"
  },
  "language_info": {
   "codemirror_mode": {
    "name": "ipython",
    "version": 3
   },
   "file_extension": ".py",
   "mimetype": "text/x-python",
   "name": "python",
   "nbconvert_exporter": "python",
   "pygments_lexer": "ipython3",
   "version": "3.6.4"
  }
 },
 "nbformat": 4,
 "nbformat_minor": 2
}
