{
 "cells": [
  {
   "cell_type": "code",
   "execution_count": 11,
   "metadata": {
    "collapsed": true
   },
   "outputs": [],
   "source": [
    "filename = \"../brown/brown\"\n",
    "params = \"8_200_30\""
   ]
  },
  {
   "cell_type": "code",
   "execution_count": 16,
   "metadata": {},
   "outputs": [],
   "source": [
    "import numpy as np\n",
    "import pandas as pd\n",
    "from scipy.stats.stats import pearsonr\n",
    "\n",
    "words = pd.read_csv(\"wordsim353/combined.csv\")\n",
    "words1 = words[\"Word 1\"]\n",
    "words2 = words[\"Word 2\"]\n",
    "human_scores = words[\"Human (mean)\"]"
   ]
  },
  {
   "cell_type": "code",
   "execution_count": 13,
   "metadata": {
    "collapsed": true
   },
   "outputs": [],
   "source": [
    "with open(\"{}.vocab\".format(filename), \"r\") as fd_vocab:\n",
    "    vocab = [s.strip() for s in fd_vocab.readlines()]\n",
    "len(vocab), vocab[int(len(vocab)/2)]\n",
    "\n",
    "lookup = {}\n",
    "for i, v in enumerate(vocab):\n",
    "    lookup[v] = i"
   ]
  },
  {
   "cell_type": "code",
   "execution_count": 14,
   "metadata": {},
   "outputs": [
    {
     "name": "stdout",
     "output_type": "stream",
     "text": [
      "(41506, 200)\n"
     ]
    }
   ],
   "source": [
    "with open(\"{}.center\".format(filename+\"_\"+params), \"r\") as fd_center:\n",
    "    embedding = [line.split() for line in fd_center.readlines()]\n",
    "    center_embedding = [[float(element) for element in elements[0:-1]] for elements in embedding]\n",
    "    center_bias = [float(elements[-1]) for elements in embedding]\n",
    "len(center_embedding), len(center_embedding[0]), len(center_bias)\n",
    "\n",
    "\n",
    "with open(\"{}.context\".format(filename+\"_\"+params), \"r\") as fd_context:\n",
    "    embedding = [line.split() for line in fd_context.readlines()]\n",
    "    context_embedding = [[float(element) for element in elements[0:-1]] for elements in embedding]\n",
    "    context_bias = [float(elements[-1]) for elements in embedding]\n",
    "len(context_embedding), len(context_embedding[0]), len(context_bias)\n",
    "\n",
    "embeddings = np.asarray(center_embedding) + np.asarray(context_embedding)\n",
    "biases = np.asarray(center_bias) + np.asarray(context_bias)\n",
    "print(embeddings.shape)"
   ]
  },
  {
   "cell_type": "code",
   "execution_count": 17,
   "metadata": {},
   "outputs": [
    {
     "name": "stdout",
     "output_type": "stream",
     "text": [
      "(0.1022905534104076, 0.070729979315424185)\n"
     ]
    }
   ],
   "source": [
    "\n",
    "humans = []\n",
    "ours = []\n",
    "\n",
    "\n",
    "for i in range(words.shape[0]):\n",
    "    word1 = words1[i]\n",
    "    word2 = words2[i]\n",
    "    try:\n",
    "        word1 = embeddings[lookup[word1]]\n",
    "        word2 = embeddings[lookup[word2]]\n",
    "        distance =  np.sum(word1 * word2) / np.linalg.norm(word2)\n",
    "        ours.append(distance)\n",
    "        humans.append(human_scores[i])\n",
    "    except KeyError:\n",
    "        pass\n",
    "\n",
    "\n",
    "cor = pearsonr(humans,ours)\n",
    "print(cor)"
   ]
  },
  {
   "cell_type": "code",
   "execution_count": null,
   "metadata": {
    "collapsed": true
   },
   "outputs": [],
   "source": []
  }
 ],
 "metadata": {
  "kernelspec": {
   "display_name": "Python 3",
   "language": "python",
   "name": "python3"
  },
  "language_info": {
   "codemirror_mode": {
    "name": "ipython",
    "version": 3
   },
   "file_extension": ".py",
   "mimetype": "text/x-python",
   "name": "python",
   "nbconvert_exporter": "python",
   "pygments_lexer": "ipython3",
   "version": "3.6.3"
  }
 },
 "nbformat": 4,
 "nbformat_minor": 2
}
